{
  "cells": [
    {
      "cell_type": "code",
      "execution_count": null,
      "metadata": {
        "id": "-zHtOqsEL0om"
      },
      "outputs": [],
      "source": [
        "import requests\n",
        "from bs4 import BeautifulSoup"
      ]
    },
    {
      "cell_type": "code",
      "execution_count": null,
      "metadata": {
        "id": "Q0VyIMIYMylX"
      },
      "outputs": [],
      "source": [
        "web = requests.get('http://quotes.toscrape.com')"
      ]
    },
    {
      "cell_type": "code",
      "execution_count": null,
      "metadata": {
        "colab": {
          "base_uri": "https://localhost:8080/"
        },
        "id": "E-hgbbQONJmV",
        "outputId": "2da06f7f-6af8-4f74-f3a5-d4f299793d81"
      },
      "outputs": [
        {
          "data": {
            "text/plain": [
              "<Response [200]>"
            ]
          },
          "execution_count": 9,
          "metadata": {},
          "output_type": "execute_result"
        }
      ],
      "source": [
        "web"
      ]
    },
    {
      "cell_type": "code",
      "execution_count": null,
      "metadata": {
        "id": "8AYy-KVTNrHC"
      },
      "outputs": [],
      "source": [
        "soup = BeautifulSoup(web.content, \"html.parser\")"
      ]
    },
    {
      "cell_type": "code",
      "execution_count": null,
      "metadata": {
        "colab": {
          "base_uri": "https://localhost:8080/"
        },
        "id": "rYOMl9pnNrJi",
        "outputId": "51b0dfe1-25b1-4080-f281-95cf8bf13914"
      },
      "outputs": [
        {
          "name": "stdout",
          "output_type": "stream",
          "text": [
            "<!DOCTYPE html>\n",
            "<html lang=\"en\">\n",
            " <head>\n",
            "  <meta charset=\"utf-8\"/>\n",
            "  <title>\n",
            "   Quotes to Scrape\n",
            "  </title>\n",
            "  <link href=\"/static/bootstrap.min.css\" rel=\"stylesheet\"/>\n",
            "  <link href=\"/static/main.css\" rel=\"stylesheet\"/>\n",
            " </head>\n",
            " <body>\n",
            "  <div class=\"container\">\n",
            "   <div class=\"row header-box\">\n",
            "    <div class=\"col-md-8\">\n",
            "     <h1>\n",
            "      <a href=\"/\" style=\"text-decoration: none\">\n",
            "       Quotes to Scrape\n",
            "      </a>\n",
            "     </h1>\n",
            "    </div>\n",
            "    <div class=\"col-md-4\">\n",
            "     <p>\n",
            "      <a href=\"/login\">\n",
            "       Login\n",
            "      </a>\n",
            "     </p>\n",
            "    </div>\n",
            "   </div>\n",
            "   <div class=\"row\">\n",
            "    <div class=\"col-md-8\">\n",
            "     <div class=\"quote\" itemscope=\"\" itemtype=\"http://schema.org/CreativeWork\">\n",
            "      <span class=\"text\" itemprop=\"text\">\n",
            "       “The world as we have created it is a process of our thinking. It cannot be changed without changing our thinking.”\n",
            "      </span>\n",
            "      <span>\n",
            "       by\n",
            "       <small class=\"author\" itemprop=\"author\">\n",
            "        Albert Einstein\n",
            "       </small>\n",
            "       <a href=\"/author/Albert-Einstein\">\n",
            "        (about)\n",
            "       </a>\n",
            "      </span>\n",
            "      <div class=\"tags\">\n",
            "       Tags:\n",
            "       <meta class=\"keywords\" content=\"change,deep-thoughts,thinking,world\" itemprop=\"keywords\"/>\n",
            "       <a class=\"tag\" href=\"/tag/change/page/1/\">\n",
            "        change\n",
            "       </a>\n",
            "       <a class=\"tag\" href=\"/tag/deep-thoughts/page/1/\">\n",
            "        deep-thoughts\n",
            "       </a>\n",
            "       <a class=\"tag\" href=\"/tag/thinking/page/1/\">\n",
            "        thinking\n",
            "       </a>\n",
            "       <a class=\"tag\" href=\"/tag/world/page/1/\">\n",
            "        world\n",
            "       </a>\n",
            "      </div>\n",
            "     </div>\n",
            "     <div class=\"quote\" itemscope=\"\" itemtype=\"http://schema.org/CreativeWork\">\n",
            "      <span class=\"text\" itemprop=\"text\">\n",
            "       “It is our choices, Harry, that show what we truly are, far more than our abilities.”\n",
            "      </span>\n",
            "      <span>\n",
            "       by\n",
            "       <small class=\"author\" itemprop=\"author\">\n",
            "        J.K. Rowling\n",
            "       </small>\n",
            "       <a href=\"/author/J-K-Rowling\">\n",
            "        (about)\n",
            "       </a>\n",
            "      </span>\n",
            "      <div class=\"tags\">\n",
            "       Tags:\n",
            "       <meta class=\"keywords\" content=\"abilities,choices\" itemprop=\"keywords\"/>\n",
            "       <a class=\"tag\" href=\"/tag/abilities/page/1/\">\n",
            "        abilities\n",
            "       </a>\n",
            "       <a class=\"tag\" href=\"/tag/choices/page/1/\">\n",
            "        choices\n",
            "       </a>\n",
            "      </div>\n",
            "     </div>\n",
            "     <div class=\"quote\" itemscope=\"\" itemtype=\"http://schema.org/CreativeWork\">\n",
            "      <span class=\"text\" itemprop=\"text\">\n",
            "       “There are only two ways to live your life. One is as though nothing is a miracle. The other is as though everything is a miracle.”\n",
            "      </span>\n",
            "      <span>\n",
            "       by\n",
            "       <small class=\"author\" itemprop=\"author\">\n",
            "        Albert Einstein\n",
            "       </small>\n",
            "       <a href=\"/author/Albert-Einstein\">\n",
            "        (about)\n",
            "       </a>\n",
            "      </span>\n",
            "      <div class=\"tags\">\n",
            "       Tags:\n",
            "       <meta class=\"keywords\" content=\"inspirational,life,live,miracle,miracles\" itemprop=\"keywords\"/>\n",
            "       <a class=\"tag\" href=\"/tag/inspirational/page/1/\">\n",
            "        inspirational\n",
            "       </a>\n",
            "       <a class=\"tag\" href=\"/tag/life/page/1/\">\n",
            "        life\n",
            "       </a>\n",
            "       <a class=\"tag\" href=\"/tag/live/page/1/\">\n",
            "        live\n",
            "       </a>\n",
            "       <a class=\"tag\" href=\"/tag/miracle/page/1/\">\n",
            "        miracle\n",
            "       </a>\n",
            "       <a class=\"tag\" href=\"/tag/miracles/page/1/\">\n",
            "        miracles\n",
            "       </a>\n",
            "      </div>\n",
            "     </div>\n",
            "     <div class=\"quote\" itemscope=\"\" itemtype=\"http://schema.org/CreativeWork\">\n",
            "      <span class=\"text\" itemprop=\"text\">\n",
            "       “The person, be it gentleman or lady, who has not pleasure in a good novel, must be intolerably stupid.”\n",
            "      </span>\n",
            "      <span>\n",
            "       by\n",
            "       <small class=\"author\" itemprop=\"author\">\n",
            "        Jane Austen\n",
            "       </small>\n",
            "       <a href=\"/author/Jane-Austen\">\n",
            "        (about)\n",
            "       </a>\n",
            "      </span>\n",
            "      <div class=\"tags\">\n",
            "       Tags:\n",
            "       <meta class=\"keywords\" content=\"aliteracy,books,classic,humor\" itemprop=\"keywords\"/>\n",
            "       <a class=\"tag\" href=\"/tag/aliteracy/page/1/\">\n",
            "        aliteracy\n",
            "       </a>\n",
            "       <a class=\"tag\" href=\"/tag/books/page/1/\">\n",
            "        books\n",
            "       </a>\n",
            "       <a class=\"tag\" href=\"/tag/classic/page/1/\">\n",
            "        classic\n",
            "       </a>\n",
            "       <a class=\"tag\" href=\"/tag/humor/page/1/\">\n",
            "        humor\n",
            "       </a>\n",
            "      </div>\n",
            "     </div>\n",
            "     <div class=\"quote\" itemscope=\"\" itemtype=\"http://schema.org/CreativeWork\">\n",
            "      <span class=\"text\" itemprop=\"text\">\n",
            "       “Imperfection is beauty, madness is genius and it's better to be absolutely ridiculous than absolutely boring.”\n",
            "      </span>\n",
            "      <span>\n",
            "       by\n",
            "       <small class=\"author\" itemprop=\"author\">\n",
            "        Marilyn Monroe\n",
            "       </small>\n",
            "       <a href=\"/author/Marilyn-Monroe\">\n",
            "        (about)\n",
            "       </a>\n",
            "      </span>\n",
            "      <div class=\"tags\">\n",
            "       Tags:\n",
            "       <meta class=\"keywords\" content=\"be-yourself,inspirational\" itemprop=\"keywords\"/>\n",
            "       <a class=\"tag\" href=\"/tag/be-yourself/page/1/\">\n",
            "        be-yourself\n",
            "       </a>\n",
            "       <a class=\"tag\" href=\"/tag/inspirational/page/1/\">\n",
            "        inspirational\n",
            "       </a>\n",
            "      </div>\n",
            "     </div>\n",
            "     <div class=\"quote\" itemscope=\"\" itemtype=\"http://schema.org/CreativeWork\">\n",
            "      <span class=\"text\" itemprop=\"text\">\n",
            "       “Try not to become a man of success. Rather become a man of value.”\n",
            "      </span>\n",
            "      <span>\n",
            "       by\n",
            "       <small class=\"author\" itemprop=\"author\">\n",
            "        Albert Einstein\n",
            "       </small>\n",
            "       <a href=\"/author/Albert-Einstein\">\n",
            "        (about)\n",
            "       </a>\n",
            "      </span>\n",
            "      <div class=\"tags\">\n",
            "       Tags:\n",
            "       <meta class=\"keywords\" content=\"adulthood,success,value\" itemprop=\"keywords\"/>\n",
            "       <a class=\"tag\" href=\"/tag/adulthood/page/1/\">\n",
            "        adulthood\n",
            "       </a>\n",
            "       <a class=\"tag\" href=\"/tag/success/page/1/\">\n",
            "        success\n",
            "       </a>\n",
            "       <a class=\"tag\" href=\"/tag/value/page/1/\">\n",
            "        value\n",
            "       </a>\n",
            "      </div>\n",
            "     </div>\n",
            "     <div class=\"quote\" itemscope=\"\" itemtype=\"http://schema.org/CreativeWork\">\n",
            "      <span class=\"text\" itemprop=\"text\">\n",
            "       “It is better to be hated for what you are than to be loved for what you are not.”\n",
            "      </span>\n",
            "      <span>\n",
            "       by\n",
            "       <small class=\"author\" itemprop=\"author\">\n",
            "        André Gide\n",
            "       </small>\n",
            "       <a href=\"/author/Andre-Gide\">\n",
            "        (about)\n",
            "       </a>\n",
            "      </span>\n",
            "      <div class=\"tags\">\n",
            "       Tags:\n",
            "       <meta class=\"keywords\" content=\"life,love\" itemprop=\"keywords\"/>\n",
            "       <a class=\"tag\" href=\"/tag/life/page/1/\">\n",
            "        life\n",
            "       </a>\n",
            "       <a class=\"tag\" href=\"/tag/love/page/1/\">\n",
            "        love\n",
            "       </a>\n",
            "      </div>\n",
            "     </div>\n",
            "     <div class=\"quote\" itemscope=\"\" itemtype=\"http://schema.org/CreativeWork\">\n",
            "      <span class=\"text\" itemprop=\"text\">\n",
            "       “I have not failed. I've just found 10,000 ways that won't work.”\n",
            "      </span>\n",
            "      <span>\n",
            "       by\n",
            "       <small class=\"author\" itemprop=\"author\">\n",
            "        Thomas A. Edison\n",
            "       </small>\n",
            "       <a href=\"/author/Thomas-A-Edison\">\n",
            "        (about)\n",
            "       </a>\n",
            "      </span>\n",
            "      <div class=\"tags\">\n",
            "       Tags:\n",
            "       <meta class=\"keywords\" content=\"edison,failure,inspirational,paraphrased\" itemprop=\"keywords\"/>\n",
            "       <a class=\"tag\" href=\"/tag/edison/page/1/\">\n",
            "        edison\n",
            "       </a>\n",
            "       <a class=\"tag\" href=\"/tag/failure/page/1/\">\n",
            "        failure\n",
            "       </a>\n",
            "       <a class=\"tag\" href=\"/tag/inspirational/page/1/\">\n",
            "        inspirational\n",
            "       </a>\n",
            "       <a class=\"tag\" href=\"/tag/paraphrased/page/1/\">\n",
            "        paraphrased\n",
            "       </a>\n",
            "      </div>\n",
            "     </div>\n",
            "     <div class=\"quote\" itemscope=\"\" itemtype=\"http://schema.org/CreativeWork\">\n",
            "      <span class=\"text\" itemprop=\"text\">\n",
            "       “A woman is like a tea bag; you never know how strong it is until it's in hot water.”\n",
            "      </span>\n",
            "      <span>\n",
            "       by\n",
            "       <small class=\"author\" itemprop=\"author\">\n",
            "        Eleanor Roosevelt\n",
            "       </small>\n",
            "       <a href=\"/author/Eleanor-Roosevelt\">\n",
            "        (about)\n",
            "       </a>\n",
            "      </span>\n",
            "      <div class=\"tags\">\n",
            "       Tags:\n",
            "       <meta class=\"keywords\" content=\"misattributed-eleanor-roosevelt\" itemprop=\"keywords\"/>\n",
            "       <a class=\"tag\" href=\"/tag/misattributed-eleanor-roosevelt/page/1/\">\n",
            "        misattributed-eleanor-roosevelt\n",
            "       </a>\n",
            "      </div>\n",
            "     </div>\n",
            "     <div class=\"quote\" itemscope=\"\" itemtype=\"http://schema.org/CreativeWork\">\n",
            "      <span class=\"text\" itemprop=\"text\">\n",
            "       “A day without sunshine is like, you know, night.”\n",
            "      </span>\n",
            "      <span>\n",
            "       by\n",
            "       <small class=\"author\" itemprop=\"author\">\n",
            "        Steve Martin\n",
            "       </small>\n",
            "       <a href=\"/author/Steve-Martin\">\n",
            "        (about)\n",
            "       </a>\n",
            "      </span>\n",
            "      <div class=\"tags\">\n",
            "       Tags:\n",
            "       <meta class=\"keywords\" content=\"humor,obvious,simile\" itemprop=\"keywords\"/>\n",
            "       <a class=\"tag\" href=\"/tag/humor/page/1/\">\n",
            "        humor\n",
            "       </a>\n",
            "       <a class=\"tag\" href=\"/tag/obvious/page/1/\">\n",
            "        obvious\n",
            "       </a>\n",
            "       <a class=\"tag\" href=\"/tag/simile/page/1/\">\n",
            "        simile\n",
            "       </a>\n",
            "      </div>\n",
            "     </div>\n",
            "     <nav>\n",
            "      <ul class=\"pager\">\n",
            "       <li class=\"next\">\n",
            "        <a href=\"/page/2/\">\n",
            "         Next\n",
            "         <span aria-hidden=\"true\">\n",
            "          →\n",
            "         </span>\n",
            "        </a>\n",
            "       </li>\n",
            "      </ul>\n",
            "     </nav>\n",
            "    </div>\n",
            "    <div class=\"col-md-4 tags-box\">\n",
            "     <h2>\n",
            "      Top Ten tags\n",
            "     </h2>\n",
            "     <span class=\"tag-item\">\n",
            "      <a class=\"tag\" href=\"/tag/love/\" style=\"font-size: 28px\">\n",
            "       love\n",
            "      </a>\n",
            "     </span>\n",
            "     <span class=\"tag-item\">\n",
            "      <a class=\"tag\" href=\"/tag/inspirational/\" style=\"font-size: 26px\">\n",
            "       inspirational\n",
            "      </a>\n",
            "     </span>\n",
            "     <span class=\"tag-item\">\n",
            "      <a class=\"tag\" href=\"/tag/life/\" style=\"font-size: 26px\">\n",
            "       life\n",
            "      </a>\n",
            "     </span>\n",
            "     <span class=\"tag-item\">\n",
            "      <a class=\"tag\" href=\"/tag/humor/\" style=\"font-size: 24px\">\n",
            "       humor\n",
            "      </a>\n",
            "     </span>\n",
            "     <span class=\"tag-item\">\n",
            "      <a class=\"tag\" href=\"/tag/books/\" style=\"font-size: 22px\">\n",
            "       books\n",
            "      </a>\n",
            "     </span>\n",
            "     <span class=\"tag-item\">\n",
            "      <a class=\"tag\" href=\"/tag/reading/\" style=\"font-size: 14px\">\n",
            "       reading\n",
            "      </a>\n",
            "     </span>\n",
            "     <span class=\"tag-item\">\n",
            "      <a class=\"tag\" href=\"/tag/friendship/\" style=\"font-size: 10px\">\n",
            "       friendship\n",
            "      </a>\n",
            "     </span>\n",
            "     <span class=\"tag-item\">\n",
            "      <a class=\"tag\" href=\"/tag/friends/\" style=\"font-size: 8px\">\n",
            "       friends\n",
            "      </a>\n",
            "     </span>\n",
            "     <span class=\"tag-item\">\n",
            "      <a class=\"tag\" href=\"/tag/truth/\" style=\"font-size: 8px\">\n",
            "       truth\n",
            "      </a>\n",
            "     </span>\n",
            "     <span class=\"tag-item\">\n",
            "      <a class=\"tag\" href=\"/tag/simile/\" style=\"font-size: 6px\">\n",
            "       simile\n",
            "      </a>\n",
            "     </span>\n",
            "    </div>\n",
            "   </div>\n",
            "  </div>\n",
            "  <footer class=\"footer\">\n",
            "   <div class=\"container\">\n",
            "    <p class=\"text-muted\">\n",
            "     Quotes by:\n",
            "     <a href=\"https://www.goodreads.com/quotes\">\n",
            "      GoodReads.com\n",
            "     </a>\n",
            "    </p>\n",
            "    <p class=\"copyright\">\n",
            "     Made with\n",
            "     <span class=\"zyte\">\n",
            "      ❤\n",
            "     </span>\n",
            "     by\n",
            "     <a class=\"zyte\" href=\"https://www.zyte.com\">\n",
            "      Zyte\n",
            "     </a>\n",
            "    </p>\n",
            "   </div>\n",
            "  </footer>\n",
            " </body>\n",
            "</html>\n",
            "\n"
          ]
        }
      ],
      "source": [
        "print(soup.prettify())"
      ]
    },
    {
      "cell_type": "code",
      "execution_count": null,
      "metadata": {
        "colab": {
          "base_uri": "https://localhost:8080/"
        },
        "id": "7zR-kInSNrMw",
        "outputId": "0b2b0485-d6a9-4c28-9ee4-3f99ba94d565"
      },
      "outputs": [
        {
          "name": "stdout",
          "output_type": "stream",
          "text": [
            "<title>Quotes to Scrape</title>\n",
            "<a href=\"/\" style=\"text-decoration: none\">Quotes to Scrape</a>\n",
            "<p>\n",
            "<a href=\"/login\">Login</a>\n",
            "</p>\n",
            "<h2>Top Ten tags</h2>\n"
          ]
        }
      ],
      "source": [
        "print(soup.title)\n",
        "print(soup.a)\n",
        "print(soup.p)\n",
        "print(soup.h2)"
      ]
    },
    {
      "cell_type": "code",
      "execution_count": null,
      "metadata": {
        "colab": {
          "base_uri": "https://localhost:8080/"
        },
        "id": "-qvTfScbOx6w",
        "outputId": "133abafd-f7ce-4467-8adc-b3fde3466522"
      },
      "outputs": [
        {
          "name": "stdout",
          "output_type": "stream",
          "text": [
            "[<p>\n",
            "<a href=\"/login\">Login</a>\n",
            "</p>, <p class=\"text-muted\">\n",
            "                Quotes by: <a href=\"https://www.goodreads.com/quotes\">GoodReads.com</a>\n",
            "</p>, <p class=\"copyright\">\n",
            "                Made with <span class=\"zyte\">❤</span> by <a class=\"zyte\" href=\"https://www.zyte.com\">Zyte</a>\n",
            "</p>]\n"
          ]
        }
      ],
      "source": [
        "print(soup.find_all(\"p\"))"
      ]
    },
    {
      "cell_type": "code",
      "execution_count": null,
      "metadata": {
        "colab": {
          "base_uri": "https://localhost:8080/"
        },
        "id": "Ydx1B323PJH5",
        "outputId": "d760e475-4335-42f4-896b-cedd1a3426a8"
      },
      "outputs": [
        {
          "name": "stdout",
          "output_type": "stream",
          "text": [
            "<div class=\"col-md-8\">\n",
            "<h1>\n",
            "<a href=\"/\" style=\"text-decoration: none\">Quotes to Scrape</a>\n",
            "</h1>\n",
            "</div>\n"
          ]
        }
      ],
      "source": [
        "print(soup.find_all(\"div\")[2])"
      ]
    },
    {
      "cell_type": "code",
      "execution_count": null,
      "metadata": {
        "colab": {
          "base_uri": "https://localhost:8080/"
        },
        "id": "SCa8LqWpPZg8",
        "outputId": "be00045b-942f-412c-e028-13e91ba3db43"
      },
      "outputs": [
        {
          "data": {
            "text/plain": [
              "[<div class=\"tags\">\n",
              "             Tags:\n",
              "             <meta class=\"keywords\" content=\"change,deep-thoughts,thinking,world\" itemprop=\"keywords\"/>\n",
              " <a class=\"tag\" href=\"/tag/change/page/1/\">change</a>\n",
              " <a class=\"tag\" href=\"/tag/deep-thoughts/page/1/\">deep-thoughts</a>\n",
              " <a class=\"tag\" href=\"/tag/thinking/page/1/\">thinking</a>\n",
              " <a class=\"tag\" href=\"/tag/world/page/1/\">world</a>\n",
              " </div>,\n",
              " <div class=\"tags\">\n",
              "             Tags:\n",
              "             <meta class=\"keywords\" content=\"abilities,choices\" itemprop=\"keywords\"/>\n",
              " <a class=\"tag\" href=\"/tag/abilities/page/1/\">abilities</a>\n",
              " <a class=\"tag\" href=\"/tag/choices/page/1/\">choices</a>\n",
              " </div>,\n",
              " <div class=\"tags\">\n",
              "             Tags:\n",
              "             <meta class=\"keywords\" content=\"inspirational,life,live,miracle,miracles\" itemprop=\"keywords\"/>\n",
              " <a class=\"tag\" href=\"/tag/inspirational/page/1/\">inspirational</a>\n",
              " <a class=\"tag\" href=\"/tag/life/page/1/\">life</a>\n",
              " <a class=\"tag\" href=\"/tag/live/page/1/\">live</a>\n",
              " <a class=\"tag\" href=\"/tag/miracle/page/1/\">miracle</a>\n",
              " <a class=\"tag\" href=\"/tag/miracles/page/1/\">miracles</a>\n",
              " </div>,\n",
              " <div class=\"tags\">\n",
              "             Tags:\n",
              "             <meta class=\"keywords\" content=\"aliteracy,books,classic,humor\" itemprop=\"keywords\"/>\n",
              " <a class=\"tag\" href=\"/tag/aliteracy/page/1/\">aliteracy</a>\n",
              " <a class=\"tag\" href=\"/tag/books/page/1/\">books</a>\n",
              " <a class=\"tag\" href=\"/tag/classic/page/1/\">classic</a>\n",
              " <a class=\"tag\" href=\"/tag/humor/page/1/\">humor</a>\n",
              " </div>,\n",
              " <div class=\"tags\">\n",
              "             Tags:\n",
              "             <meta class=\"keywords\" content=\"be-yourself,inspirational\" itemprop=\"keywords\"/>\n",
              " <a class=\"tag\" href=\"/tag/be-yourself/page/1/\">be-yourself</a>\n",
              " <a class=\"tag\" href=\"/tag/inspirational/page/1/\">inspirational</a>\n",
              " </div>,\n",
              " <div class=\"tags\">\n",
              "             Tags:\n",
              "             <meta class=\"keywords\" content=\"adulthood,success,value\" itemprop=\"keywords\"/>\n",
              " <a class=\"tag\" href=\"/tag/adulthood/page/1/\">adulthood</a>\n",
              " <a class=\"tag\" href=\"/tag/success/page/1/\">success</a>\n",
              " <a class=\"tag\" href=\"/tag/value/page/1/\">value</a>\n",
              " </div>,\n",
              " <div class=\"tags\">\n",
              "             Tags:\n",
              "             <meta class=\"keywords\" content=\"life,love\" itemprop=\"keywords\"/>\n",
              " <a class=\"tag\" href=\"/tag/life/page/1/\">life</a>\n",
              " <a class=\"tag\" href=\"/tag/love/page/1/\">love</a>\n",
              " </div>,\n",
              " <div class=\"tags\">\n",
              "             Tags:\n",
              "             <meta class=\"keywords\" content=\"edison,failure,inspirational,paraphrased\" itemprop=\"keywords\"/>\n",
              " <a class=\"tag\" href=\"/tag/edison/page/1/\">edison</a>\n",
              " <a class=\"tag\" href=\"/tag/failure/page/1/\">failure</a>\n",
              " <a class=\"tag\" href=\"/tag/inspirational/page/1/\">inspirational</a>\n",
              " <a class=\"tag\" href=\"/tag/paraphrased/page/1/\">paraphrased</a>\n",
              " </div>,\n",
              " <div class=\"tags\">\n",
              "             Tags:\n",
              "             <meta class=\"keywords\" content=\"misattributed-eleanor-roosevelt\" itemprop=\"keywords\"/>\n",
              " <a class=\"tag\" href=\"/tag/misattributed-eleanor-roosevelt/page/1/\">misattributed-eleanor-roosevelt</a>\n",
              " </div>,\n",
              " <div class=\"tags\">\n",
              "             Tags:\n",
              "             <meta class=\"keywords\" content=\"humor,obvious,simile\" itemprop=\"keywords\"/>\n",
              " <a class=\"tag\" href=\"/tag/humor/page/1/\">humor</a>\n",
              " <a class=\"tag\" href=\"/tag/obvious/page/1/\">obvious</a>\n",
              " <a class=\"tag\" href=\"/tag/simile/page/1/\">simile</a>\n",
              " </div>]"
            ]
          },
          "execution_count": 33,
          "metadata": {},
          "output_type": "execute_result"
        }
      ],
      "source": [
        "class1 = soup.find_all(\"div\", class_=\"tags\")\n",
        "class1"
      ]
    },
    {
      "cell_type": "code",
      "execution_count": null,
      "metadata": {
        "colab": {
          "base_uri": "https://localhost:8080/"
        },
        "id": "la-gcQFxR5FS",
        "outputId": "30db3c20-d015-4a4f-e32c-9642f84ae76c"
      },
      "outputs": [
        {
          "data": {
            "text/plain": [
              "[<a href=\"/\" style=\"text-decoration: none\">Quotes to Scrape</a>,\n",
              " <a href=\"/login\">Login</a>,\n",
              " <a href=\"/author/Albert-Einstein\">(about)</a>,\n",
              " <a class=\"tag\" href=\"/tag/change/page/1/\">change</a>,\n",
              " <a class=\"tag\" href=\"/tag/deep-thoughts/page/1/\">deep-thoughts</a>,\n",
              " <a class=\"tag\" href=\"/tag/thinking/page/1/\">thinking</a>,\n",
              " <a class=\"tag\" href=\"/tag/world/page/1/\">world</a>,\n",
              " <a href=\"/author/J-K-Rowling\">(about)</a>,\n",
              " <a class=\"tag\" href=\"/tag/abilities/page/1/\">abilities</a>,\n",
              " <a class=\"tag\" href=\"/tag/choices/page/1/\">choices</a>,\n",
              " <a href=\"/author/Albert-Einstein\">(about)</a>,\n",
              " <a class=\"tag\" href=\"/tag/inspirational/page/1/\">inspirational</a>,\n",
              " <a class=\"tag\" href=\"/tag/life/page/1/\">life</a>,\n",
              " <a class=\"tag\" href=\"/tag/live/page/1/\">live</a>,\n",
              " <a class=\"tag\" href=\"/tag/miracle/page/1/\">miracle</a>,\n",
              " <a class=\"tag\" href=\"/tag/miracles/page/1/\">miracles</a>,\n",
              " <a href=\"/author/Jane-Austen\">(about)</a>,\n",
              " <a class=\"tag\" href=\"/tag/aliteracy/page/1/\">aliteracy</a>,\n",
              " <a class=\"tag\" href=\"/tag/books/page/1/\">books</a>,\n",
              " <a class=\"tag\" href=\"/tag/classic/page/1/\">classic</a>,\n",
              " <a class=\"tag\" href=\"/tag/humor/page/1/\">humor</a>,\n",
              " <a href=\"/author/Marilyn-Monroe\">(about)</a>,\n",
              " <a class=\"tag\" href=\"/tag/be-yourself/page/1/\">be-yourself</a>,\n",
              " <a class=\"tag\" href=\"/tag/inspirational/page/1/\">inspirational</a>,\n",
              " <a href=\"/author/Albert-Einstein\">(about)</a>,\n",
              " <a class=\"tag\" href=\"/tag/adulthood/page/1/\">adulthood</a>,\n",
              " <a class=\"tag\" href=\"/tag/success/page/1/\">success</a>,\n",
              " <a class=\"tag\" href=\"/tag/value/page/1/\">value</a>,\n",
              " <a href=\"/author/Andre-Gide\">(about)</a>,\n",
              " <a class=\"tag\" href=\"/tag/life/page/1/\">life</a>,\n",
              " <a class=\"tag\" href=\"/tag/love/page/1/\">love</a>,\n",
              " <a href=\"/author/Thomas-A-Edison\">(about)</a>,\n",
              " <a class=\"tag\" href=\"/tag/edison/page/1/\">edison</a>,\n",
              " <a class=\"tag\" href=\"/tag/failure/page/1/\">failure</a>,\n",
              " <a class=\"tag\" href=\"/tag/inspirational/page/1/\">inspirational</a>,\n",
              " <a class=\"tag\" href=\"/tag/paraphrased/page/1/\">paraphrased</a>,\n",
              " <a href=\"/author/Eleanor-Roosevelt\">(about)</a>,\n",
              " <a class=\"tag\" href=\"/tag/misattributed-eleanor-roosevelt/page/1/\">misattributed-eleanor-roosevelt</a>,\n",
              " <a href=\"/author/Steve-Martin\">(about)</a>,\n",
              " <a class=\"tag\" href=\"/tag/humor/page/1/\">humor</a>,\n",
              " <a class=\"tag\" href=\"/tag/obvious/page/1/\">obvious</a>,\n",
              " <a class=\"tag\" href=\"/tag/simile/page/1/\">simile</a>,\n",
              " <a href=\"/page/2/\">Next <span aria-hidden=\"true\">→</span></a>,\n",
              " <a class=\"tag\" href=\"/tag/love/\" style=\"font-size: 28px\">love</a>,\n",
              " <a class=\"tag\" href=\"/tag/inspirational/\" style=\"font-size: 26px\">inspirational</a>,\n",
              " <a class=\"tag\" href=\"/tag/life/\" style=\"font-size: 26px\">life</a>,\n",
              " <a class=\"tag\" href=\"/tag/humor/\" style=\"font-size: 24px\">humor</a>,\n",
              " <a class=\"tag\" href=\"/tag/books/\" style=\"font-size: 22px\">books</a>,\n",
              " <a class=\"tag\" href=\"/tag/reading/\" style=\"font-size: 14px\">reading</a>,\n",
              " <a class=\"tag\" href=\"/tag/friendship/\" style=\"font-size: 10px\">friendship</a>,\n",
              " <a class=\"tag\" href=\"/tag/friends/\" style=\"font-size: 8px\">friends</a>,\n",
              " <a class=\"tag\" href=\"/tag/truth/\" style=\"font-size: 8px\">truth</a>,\n",
              " <a class=\"tag\" href=\"/tag/simile/\" style=\"font-size: 6px\">simile</a>,\n",
              " <a href=\"https://www.goodreads.com/quotes\">GoodReads.com</a>,\n",
              " <a class=\"zyte\" href=\"https://www.zyte.com\">Zyte</a>]"
            ]
          },
          "execution_count": 44,
          "metadata": {},
          "output_type": "execute_result"
        }
      ],
      "source": [
        "id_data= soup.find_all(\"a\")\n",
        "id_data"
      ]
    },
    {
      "cell_type": "code",
      "execution_count": null,
      "metadata": {
        "colab": {
          "base_uri": "https://localhost:8080/"
        },
        "id": "xvWW4gzMS90f",
        "outputId": "18bca000-402d-4333-c9c9-0cea51748c34"
      },
      "outputs": [
        {
          "data": {
            "text/plain": [
              "[<p>\n",
              " <a href=\"/login\">Login</a>\n",
              " </p>,\n",
              " <p class=\"text-muted\">\n",
              "                 Quotes by: <a href=\"https://www.goodreads.com/quotes\">GoodReads.com</a>\n",
              " </p>,\n",
              " <p class=\"copyright\">\n",
              "                 Made with <span class=\"zyte\">❤</span> by <a class=\"zyte\" href=\"https://www.zyte.com\">Zyte</a>\n",
              " </p>]"
            ]
          },
          "execution_count": 45,
          "metadata": {},
          "output_type": "execute_result"
        }
      ],
      "source": [
        "line = soup.find_all(\"p\")\n",
        "line"
      ]
    },
    {
      "cell_type": "code",
      "execution_count": null,
      "metadata": {
        "colab": {
          "base_uri": "https://localhost:8080/"
        },
        "id": "vxV_ryOeTJU_",
        "outputId": "a2fe05a0-d0af-4065-b281-402d34283af5"
      },
      "outputs": [
        {
          "name": "stdout",
          "output_type": "stream",
          "text": [
            "\n",
            "Login\n",
            "\n",
            "\n",
            "                Quotes by: GoodReads.com\n",
            "\n",
            "\n",
            "                Made with ❤ by Zyte\n",
            "\n"
          ]
        }
      ],
      "source": [
        "for i in line:\n",
        "  print(i.text)"
      ]
    },
    {
      "cell_type": "code",
      "execution_count": null,
      "metadata": {
        "colab": {
          "base_uri": "https://localhost:8080/"
        },
        "id": "CYQPrVUSTORo",
        "outputId": "432367c6-3776-4661-c43c-5bb28ad6d1d8"
      },
      "outputs": [
        {
          "name": "stdout",
          "output_type": "stream",
          "text": [
            "/\n",
            "/login\n",
            "/author/Albert-Einstein\n",
            "/tag/change/page/1/\n",
            "/tag/deep-thoughts/page/1/\n",
            "/tag/thinking/page/1/\n",
            "/tag/world/page/1/\n",
            "/author/J-K-Rowling\n",
            "/tag/abilities/page/1/\n",
            "/tag/choices/page/1/\n",
            "/author/Albert-Einstein\n",
            "/tag/inspirational/page/1/\n",
            "/tag/life/page/1/\n",
            "/tag/live/page/1/\n",
            "/tag/miracle/page/1/\n",
            "/tag/miracles/page/1/\n",
            "/author/Jane-Austen\n",
            "/tag/aliteracy/page/1/\n",
            "/tag/books/page/1/\n",
            "/tag/classic/page/1/\n",
            "/tag/humor/page/1/\n",
            "/author/Marilyn-Monroe\n",
            "/tag/be-yourself/page/1/\n",
            "/tag/inspirational/page/1/\n",
            "/author/Albert-Einstein\n",
            "/tag/adulthood/page/1/\n",
            "/tag/success/page/1/\n",
            "/tag/value/page/1/\n",
            "/author/Andre-Gide\n",
            "/tag/life/page/1/\n",
            "/tag/love/page/1/\n",
            "/author/Thomas-A-Edison\n",
            "/tag/edison/page/1/\n",
            "/tag/failure/page/1/\n",
            "/tag/inspirational/page/1/\n",
            "/tag/paraphrased/page/1/\n",
            "/author/Eleanor-Roosevelt\n",
            "/tag/misattributed-eleanor-roosevelt/page/1/\n",
            "/author/Steve-Martin\n",
            "/tag/humor/page/1/\n",
            "/tag/obvious/page/1/\n",
            "/tag/simile/page/1/\n",
            "/page/2/\n",
            "/tag/love/\n",
            "/tag/inspirational/\n",
            "/tag/life/\n",
            "/tag/humor/\n",
            "/tag/books/\n",
            "/tag/reading/\n",
            "/tag/friendship/\n",
            "/tag/friends/\n",
            "/tag/truth/\n",
            "/tag/simile/\n",
            "https://www.goodreads.com/quotes\n",
            "https://www.zyte.com\n"
          ]
        }
      ],
      "source": [
        "for i in soup.find_all(\"a\"):\n",
        "  print(i.get(\"href\"))"
      ]
    },
    {
      "cell_type": "code",
      "execution_count": null,
      "metadata": {
        "colab": {
          "base_uri": "https://localhost:8080/"
        },
        "id": "32N0u0F3TeTU",
        "outputId": "9d605bc7-3e79-4546-fc8a-a2aeea6ac4aa"
      },
      "outputs": [
        {
          "data": {
            "text/plain": [
              "[]"
            ]
          },
          "execution_count": 51,
          "metadata": {},
          "output_type": "execute_result"
        }
      ],
      "source": [
        "#image\n",
        "\n",
        "soup.find_all(\"img\")"
      ]
    },
    {
      "cell_type": "code",
      "execution_count": null,
      "metadata": {
        "id": "Uj70pDzlTtDW"
      },
      "outputs": [],
      "source": [
        "for i in soup.find_all(\"img\"):\n",
        "  print(i.get(\"src\"))"
      ]
    },
    {
      "cell_type": "code",
      "execution_count": null,
      "metadata": {
        "id": "m7SpVIOPT4dP"
      },
      "outputs": [],
      "source": [
        "text= []\n",
        "for i in soup.find_all(\"p\"):\n",
        "  text.append(i.text)\n"
      ]
    },
    {
      "cell_type": "code",
      "execution_count": null,
      "metadata": {
        "colab": {
          "base_uri": "https://localhost:8080/"
        },
        "id": "O6xScVZLUHBv",
        "outputId": "f283b8da-1101-4fdc-d92a-946cab336143"
      },
      "outputs": [
        {
          "data": {
            "text/plain": [
              "['\\nLogin\\n',\n",
              " '\\n                Quotes by: GoodReads.com\\n',\n",
              " '\\n                Made with ❤ by Zyte\\n']"
            ]
          },
          "execution_count": 55,
          "metadata": {},
          "output_type": "execute_result"
        }
      ],
      "source": [
        "text"
      ]
    },
    {
      "cell_type": "code",
      "execution_count": null,
      "metadata": {
        "id": "J7mh4lrCUIM0"
      },
      "outputs": [],
      "source": []
    }
  ],
  "metadata": {
    "colab": {
      "provenance": []
    },
    "kernelspec": {
      "display_name": "Python 3",
      "name": "python3"
    },
    "language_info": {
      "name": "python"
    }
  },
  "nbformat": 4,
  "nbformat_minor": 0
}